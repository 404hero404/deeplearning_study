{
 "cells": [
  {
   "metadata": {
    "ExecuteTime": {
     "end_time": "2025-06-12T12:11:40.036397Z",
     "start_time": "2025-06-12T12:11:40.033248Z"
    }
   },
   "cell_type": "code",
   "source": [
    "import torch\n",
    "import numpy as np\n",
    "from erfa import dt_pv\n",
    "\n",
    "print(\"np.version:\",np.__version__)\n",
    "print(\"torch.version:\",torch.__version__)"
   ],
   "id": "fbc121e30a2defb3",
   "outputs": [
    {
     "name": "stdout",
     "output_type": "stream",
     "text": [
      "np.version: 1.26.4\n",
      "torch.version: 2.7.1\n"
     ]
    }
   ],
   "execution_count": 4
  },
  {
   "metadata": {
    "ExecuteTime": {
     "end_time": "2025-06-13T11:05:36.548382Z",
     "start_time": "2025-06-13T11:05:36.420814Z"
    }
   },
   "cell_type": "code",
   "source": [
    "a = torch.tensor([\n",
    "    [1, 2],\n",
    "    [3, 4]\n",
    "], dtype=torch.int32)\n",
    "b = torch.rand(size=(3, 4, 9))\n",
    "c = torch.zeros_like(b)"
   ],
   "id": "b1832abb93d7b2f8",
   "outputs": [
    {
     "ename": "NameError",
     "evalue": "name 'torch' is not defined",
     "output_type": "error",
     "traceback": [
      "\u001B[0;31m---------------------------------------------------------------------------\u001B[0m",
      "\u001B[0;31mNameError\u001B[0m                                 Traceback (most recent call last)",
      "Cell \u001B[0;32mIn[1], line 1\u001B[0m\n\u001B[0;32m----> 1\u001B[0m a \u001B[38;5;241m=\u001B[39m torch\u001B[38;5;241m.\u001B[39mtensor([\n\u001B[1;32m      2\u001B[0m     [\u001B[38;5;241m1\u001B[39m, \u001B[38;5;241m2\u001B[39m],\n\u001B[1;32m      3\u001B[0m     [\u001B[38;5;241m3\u001B[39m, \u001B[38;5;241m4\u001B[39m]\n\u001B[1;32m      4\u001B[0m ], dtype\u001B[38;5;241m=\u001B[39mtorch\u001B[38;5;241m.\u001B[39mint32)\n\u001B[1;32m      5\u001B[0m b \u001B[38;5;241m=\u001B[39m torch\u001B[38;5;241m.\u001B[39mrand(size\u001B[38;5;241m=\u001B[39m(\u001B[38;5;241m3\u001B[39m, \u001B[38;5;241m4\u001B[39m, \u001B[38;5;241m9\u001B[39m))\n\u001B[1;32m      6\u001B[0m c \u001B[38;5;241m=\u001B[39m torch\u001B[38;5;241m.\u001B[39mzeros_like(b)\n",
      "\u001B[0;31mNameError\u001B[0m: name 'torch' is not defined"
     ]
    }
   ],
   "execution_count": 1
  },
  {
   "metadata": {
    "ExecuteTime": {
     "end_time": "2025-06-12T14:30:35.761224Z",
     "start_time": "2025-06-12T14:30:35.748081Z"
    }
   },
   "cell_type": "code",
   "source": [
    "b = torch.linspace(2, 10, 4)\n",
    "shuffle_idx = torch.randperm(len(b))\n",
    "shuffle_b = b[shuffle_idx]"
   ],
   "id": "95cbdb6b5e63a164",
   "outputs": [],
   "execution_count": 37
  },
  {
   "metadata": {
    "ExecuteTime": {
     "end_time": "2025-06-12T15:06:44.997489Z",
     "start_time": "2025-06-12T15:06:44.992999Z"
    }
   },
   "cell_type": "code",
   "source": [
    "dev = torch.device(\"cpu\")\n",
    "value = torch.tensor([1, 2, 3], device=dev)\n",
    "idx = torch.tensor([[0, 1, 2],[0, 1, 2], [0, 1, 2]], device=dev)\n",
    "stride_arr = torch.sparse_coo_tensor(idx, value, (3, 3, 3), device=dev)"
   ],
   "id": "bb0f59385cde305",
   "outputs": [],
   "execution_count": 55
  },
  {
   "metadata": {
    "ExecuteTime": {
     "end_time": "2025-06-13T02:12:21.224113Z",
     "start_time": "2025-06-13T02:12:21.220835Z"
    }
   },
   "cell_type": "code",
   "source": "tmp = torch.rand((5, 2)) + torch.rand(2)",
   "id": "7cdadb67e5fb49ed",
   "outputs": [],
   "execution_count": 90
  },
  {
   "metadata": {
    "ExecuteTime": {
     "end_time": "2025-06-13T02:13:09.089466Z",
     "start_time": "2025-06-13T02:13:09.083668Z"
    }
   },
   "cell_type": "code",
   "source": [
    "print(torch.floor(tmp))#向下取整\n",
    "print(torch.ceil(tmp))#向上取整\n",
    "print(torch.round(tmp))#四舍五入\n",
    "print(torch.trunc(tmp))#截断 只取整数部分\n",
    "print(torch.frac(tmp))#取小数部分"
   ],
   "id": "c5816ce2ecaeafec",
   "outputs": [
    {
     "name": "stdout",
     "output_type": "stream",
     "text": [
      "tensor([[1., 1.],\n",
      "        [1., 0.],\n",
      "        [0., 1.],\n",
      "        [1., 1.],\n",
      "        [1., 0.]])\n",
      "tensor([[2., 2.],\n",
      "        [2., 1.],\n",
      "        [1., 2.],\n",
      "        [2., 2.],\n",
      "        [2., 1.]])\n",
      "tensor([[2., 1.],\n",
      "        [1., 1.],\n",
      "        [1., 1.],\n",
      "        [1., 2.],\n",
      "        [2., 1.]])\n",
      "tensor([[1., 1.],\n",
      "        [1., 0.],\n",
      "        [0., 1.],\n",
      "        [1., 1.],\n",
      "        [1., 0.]])\n",
      "tensor([[0.6033, 0.3455],\n",
      "        [0.4860, 0.9324],\n",
      "        [0.8016, 0.4833],\n",
      "        [0.3053, 0.5960],\n",
      "        [0.5998, 0.9319]])\n"
     ]
    }
   ],
   "execution_count": 92
  },
  {
   "metadata": {
    "ExecuteTime": {
     "end_time": "2025-06-13T03:25:05.909390Z",
     "start_time": "2025-06-13T03:25:05.904935Z"
    }
   },
   "cell_type": "code",
   "source": [
    "tmp_1, _ = torch.sort(tmp, dim=1)\n",
    "print(torch.topk(tmp, 1, dim=1)[0])\n",
    "finate = -finate\n"
   ],
   "id": "6d3ac57baa732bcb",
   "outputs": [
    {
     "name": "stdout",
     "output_type": "stream",
     "text": [
      "tensor([[1.6033],\n",
      "        [1.4860],\n",
      "        [1.4833],\n",
      "        [1.5960],\n",
      "        [1.5998]])\n"
     ]
    }
   ],
   "execution_count": 106
  },
  {
   "metadata": {
    "ExecuteTime": {
     "end_time": "2025-06-13T07:16:40.981957Z",
     "start_time": "2025-06-13T07:16:40.973903Z"
    }
   },
   "cell_type": "code",
   "source": "tmp2 = torch.rand((5, 2))",
   "id": "2cb97baf7d99afc8",
   "outputs": [],
   "execution_count": 109
  },
  {
   "metadata": {
    "ExecuteTime": {
     "end_time": "2025-06-13T09:00:29.263861Z",
     "start_time": "2025-06-13T09:00:29.261714Z"
    }
   },
   "cell_type": "code",
   "source": [
    "out = torch.where(tmp2 > 0.5, tmp2, tmp)\n",
    "out = torch.gather(tmp, dim = 1, index=torch.tensor([[1, 0, 1, 0, 1]]))\n",
    "out = torch.stack((tmp, tmp), dim=1)"
   ],
   "id": "9214201d0dbc851b",
   "outputs": [],
   "execution_count": 135
  },
  {
   "metadata": {
    "ExecuteTime": {
     "end_time": "2025-06-13T08:56:24.329651Z",
     "start_time": "2025-06-13T08:56:24.326129Z"
    }
   },
   "cell_type": "code",
   "source": "help(torch.stack)",
   "id": "f6ede35c84b2e2bf",
   "outputs": [
    {
     "name": "stdout",
     "output_type": "stream",
     "text": [
      "Help on built-in function stack in module torch:\n",
      "\n",
      "stack(...)\n",
      "    stack(tensors, dim=0, *, out=None) -> Tensor\n",
      "\n",
      "    Concatenates a sequence of tensors along a new dimension.\n",
      "\n",
      "    All tensors need to be of the same size.\n",
      "\n",
      "    .. seealso::\n",
      "\n",
      "        :func:`torch.cat` concatenates the given sequence along an existing dimension.\n",
      "\n",
      "    Arguments:\n",
      "        tensors (sequence of Tensors): sequence of tensors to concatenate\n",
      "        dim (int, optional): dimension to insert. Has to be between 0 and the number\n",
      "            of dimensions of concatenated tensors (inclusive). Default: 0\n",
      "\n",
      "    Keyword args:\n",
      "        out (Tensor, optional): the output tensor.\n",
      "\n",
      "    Example::\n",
      "\n",
      "        >>> x = torch.randn(2, 3)\n",
      "        >>> x\n",
      "        tensor([[ 0.3367,  0.1288,  0.2345],\n",
      "                [ 0.2303, -1.1229, -0.1863]])\n",
      "        >>> torch.stack((x, x)) # same as torch.stack((x, x), dim=0)\n",
      "        tensor([[[ 0.3367,  0.1288,  0.2345],\n",
      "                 [ 0.2303, -1.1229, -0.1863]],\n",
      "\n",
      "                [[ 0.3367,  0.1288,  0.2345],\n",
      "                 [ 0.2303, -1.1229, -0.1863]]])\n",
      "        >>> torch.stack((x, x)).size()\n",
      "        torch.Size([2, 2, 3])\n",
      "        >>> torch.stack((x, x), dim=1)\n",
      "        tensor([[[ 0.3367,  0.1288,  0.2345],\n",
      "                 [ 0.3367,  0.1288,  0.2345]],\n",
      "\n",
      "                [[ 0.2303, -1.1229, -0.1863],\n",
      "                 [ 0.2303, -1.1229, -0.1863]]])\n",
      "        >>> torch.stack((x, x), dim=2)\n",
      "        tensor([[[ 0.3367,  0.3367],\n",
      "                 [ 0.1288,  0.1288],\n",
      "                 [ 0.2345,  0.2345]],\n",
      "\n",
      "                [[ 0.2303,  0.2303],\n",
      "                 [-1.1229, -1.1229],\n",
      "                 [-0.1863, -0.1863]]])\n",
      "        >>> torch.stack((x, x), dim=-1)\n",
      "        tensor([[[ 0.3367,  0.3367],\n",
      "                 [ 0.1288,  0.1288],\n",
      "                 [ 0.2345,  0.2345]],\n",
      "\n",
      "                [[ 0.2303,  0.2303],\n",
      "                 [-1.1229, -1.1229],\n",
      "                 [-0.1863, -0.1863]]])\n",
      "\n"
     ]
    }
   ],
   "execution_count": 132
  },
  {
   "metadata": {},
   "cell_type": "code",
   "outputs": [],
   "execution_count": null,
   "source": "",
   "id": "21cd8ff6aaf2d96c"
  }
 ],
 "metadata": {
  "kernelspec": {
   "display_name": "Python [conda env:study_env] *",
   "language": "python",
   "name": "conda-env-study_env-py"
  },
  "language_info": {
   "codemirror_mode": {
    "name": "ipython",
    "version": 2
   },
   "file_extension": ".py",
   "mimetype": "text/x-python",
   "name": "python",
   "nbconvert_exporter": "python",
   "pygments_lexer": "ipython2",
   "version": "2.7.6"
  }
 },
 "nbformat": 4,
 "nbformat_minor": 5
}
